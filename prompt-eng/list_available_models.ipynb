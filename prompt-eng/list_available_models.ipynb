{
 "cells": [
  {
   "cell_type": "markdown",
   "metadata": {},
   "source": [
    "### List Models\n",
    "This notebook is for loading a client and then fetching the list of available models on the remote server, or your\n",
    "local ollama server, depending on your setup.\n",
    "\n",
    "_If running on the FAU HPC, I highly recommend sticking to smaller <8B parameter models_"
   ]
  },
  {
   "cell_type": "code",
   "execution_count": 2,
   "metadata": {},
   "outputs": [
    {
     "name": "stdout",
     "output_type": "stream",
     "text": [
      "Available Models:\n",
      "model_name: llama3.2:latest, model_parameters: 3.2B\n",
      "model_name: qwen2.5-coder:7b, model_parameters: 7.6B\n",
      "model_name: starcoder2:3b, model_parameters: 3B\n",
      "model_name: phi4:latest, model_parameters: 14.7B\n",
      "model_name: mistral:latest, model_parameters: 7.2B\n",
      "model_name: deepseek-r1:32b, model_parameters: 32.8B\n",
      "model_name: deepseek-r1:14b, model_parameters: 14.8B\n",
      "model_name: deepseek-r1:7b, model_parameters: 7.6B\n"
     ]
    }
   ],
   "source": [
    "## LIST AVAILABLE MODELS\n",
    "\n",
    "from clients import bootstrap_client_and_model\n",
    "\n",
    "client , _ = bootstrap_client_and_model()\n",
    "\n",
    "models = client.get_models()\n",
    "\n",
    "print(\"Available Models:\")\n",
    "for model in models:\n",
    "    print(f\"model_name: {model.name}, model_parameters: {model.parameter_size}\")"
   ]
  }
 ],
 "metadata": {
  "kernelspec": {
   "display_name": "Python 3",
   "language": "python",
   "name": "python3"
  },
  "language_info": {
   "codemirror_mode": {
    "name": "ipython",
    "version": 3
   },
   "file_extension": ".py",
   "mimetype": "text/x-python",
   "name": "python",
   "nbconvert_exporter": "python",
   "pygments_lexer": "ipython3",
   "version": "3.13.1"
  }
 },
 "nbformat": 4,
 "nbformat_minor": 2
}
